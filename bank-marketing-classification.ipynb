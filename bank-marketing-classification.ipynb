{
 "cells": [
  {
   "cell_type": "markdown",
   "id": "a01c9649-a553-4800-98db-510dc92d8c1b",
   "metadata": {},
   "source": [
    "## Predicting Bank Marketing using Machine Learning\n",
    "This notebook looks into using various python-based machine learning and data science librariesin an attempt\n",
    "to build a machine learning model capable of predicting bank marketing deposit based on their attributes. \n",
    "We are going to take the following approach:\n",
    "\n",
    "* problem Defination\n",
    "* Data\n",
    "* Evaluation\n",
    "* Features\n",
    "* Modelling\n",
    "* Experiments\n",
    "\n",
    "## 1. Problem Defination\n",
    "in a statement,\n",
    "> given clinical parameters about a customer. can we predict whether or not they will subscribe deposit or not?\n",
    "\n",
    "## 2. Data\n",
    "The orignal data came from uci machine learning repository\n",
    "There is a version available at kaggle also\n",
    "\n",
    "## 3. Evaluation\n",
    "> if we reach 95% accuracy at predicting whether or not customer will subscribe deposit during the proof of concepts.we'll persue the project.\n",
    "\n",
    "## 4. Features\n",
    "1 - age (numeric)\r\n",
    "   2 - job : type of job (categorical: \"admin.\",\"unknown\",\"unemployed\",\"management\",\"housemaid\",\"entrepreneur\",\"student\",\r\n",
    "                                       \"blue-collar\",\"self-employed\",\"retired\",\"technician\",\"services\") \r\n",
    "   3 - marital : marital status (categorical: \"married\",\"divorced\",\"single\"; note: \"divorced\" means divorced or widowed)\r\n",
    "   4 - education (categorical: \"unknown\",\"secondary\",\"primary\",\"tertiary\")\r\n",
    "   5 - default: has credit in default? (binary: \"yes\",\"no\")\r\n",
    "   6 - balance: average yearly balance, in euros (numeric) \r\n",
    "   7 - housing: has housing loan? (binary: \"yes\",\"no\")\r\n",
    "   8 - loan: has personal loan? (binary: \"yes\",\"no\")\r\n",
    "   # related with the last contact of the current campaign:\r\n",
    "   9 - contact: contact communication type (categorical: \"unknown\",\"telephone\",\"cellular\") \r\n",
    "  10 - day: last contact day of the month (numeric)\r\n",
    "  11 - month: last contact month of year (categorical: \"jan\", \"feb\", \"mar\", ..., \"nov\", \"dec\")\r\n",
    "  12 - duration: last contact duration, in seconds (numeric)\r\n",
    "   # other attributes:\r\n",
    "  13 - campaign: number of contacts performed during this campaign and for this client (numeric, includes last contact)\r\n",
    "  14 - pdays: number of days that passed by after the client was last contacted from a previous campaign (numeric, -1 means client was not previously contacted)\r\n",
    "  15 - previous: number of contacts performed before this campaign and for this client (numeric)\r\n",
    "  16 - poutcome: outcome of the previous marketing campaign (categorical: \"unknown\",\"other\",\"failure\",\"success\")\r\n",
    "\r\n",
    "  Output variable (desired target):\r\n",
    "  17 - y - has the client subscribed a term deposit? (binary: \"yes\",\"no\")"
   ]
  },
  {
   "cell_type": "markdown",
   "id": "45b79820-7b9b-49c6-9816-638a4665d517",
   "metadata": {},
   "source": [
    "## Preparing tools"
   ]
  },
  {
   "cell_type": "code",
   "execution_count": 1,
   "id": "41c65f7e-e008-4b20-852e-acc60257fc71",
   "metadata": {},
   "outputs": [],
   "source": [
    "#importing all the thing we need\n",
    "\n",
    "#Regular Exploratory Data Analysis tools\n",
    "import numpy as np\n",
    "import pandas as pd\n",
    "import matplotlib.pyplot as plt\n",
    "import seaborn as sns\n",
    "\n",
    "#we want to apear plot in this notebook\n",
    "%matplotlib inline\n",
    "\n",
    "#models from scikit learn\n",
    "from sklearn.linear_model import SGDClassifier\n",
    "from sklearn.kernel_approximation import RBFSampler\n",
    "from sklearn.ensemble import RandomForestClassifier\n",
    "from sklearn.neighbors import KNeighborsClassifier\n",
    "from sklearn.naive_bayes import GaussianNB\n",
    "\n",
    "#Model Evaluation \n",
    "from sklearn.model_selection import train_test_split,cross_val_score\n",
    "from sklearn.model_selection import RandomizedSearchCV,GridSearchCV\n",
    "from sklearn.metrics import classification_report,confusion_matrix\n",
    "from sklearn.metrics import precision_score,recall_score,f1_score\n",
    "from sklearn.metrics import RocCurveDisplay "
   ]
  },
  {
   "cell_type": "markdown",
   "id": "335401d2-25a1-4daa-bae0-f208b1f80152",
   "metadata": {},
   "source": [
    "## Load Data"
   ]
  },
  {
   "cell_type": "code",
   "execution_count": 2,
   "id": "cbcb5d4c-b0ae-4e7c-afa2-76038301428a",
   "metadata": {},
   "outputs": [
    {
     "data": {
      "text/html": [
       "<div>\n",
       "<style scoped>\n",
       "    .dataframe tbody tr th:only-of-type {\n",
       "        vertical-align: middle;\n",
       "    }\n",
       "\n",
       "    .dataframe tbody tr th {\n",
       "        vertical-align: top;\n",
       "    }\n",
       "\n",
       "    .dataframe thead th {\n",
       "        text-align: right;\n",
       "    }\n",
       "</style>\n",
       "<table border=\"1\" class=\"dataframe\">\n",
       "  <thead>\n",
       "    <tr style=\"text-align: right;\">\n",
       "      <th></th>\n",
       "      <th>age</th>\n",
       "      <th>job</th>\n",
       "      <th>marital</th>\n",
       "      <th>education</th>\n",
       "      <th>default</th>\n",
       "      <th>balance</th>\n",
       "      <th>housing</th>\n",
       "      <th>loan</th>\n",
       "      <th>contact</th>\n",
       "      <th>day</th>\n",
       "      <th>month</th>\n",
       "      <th>duration</th>\n",
       "      <th>campaign</th>\n",
       "      <th>pdays</th>\n",
       "      <th>previous</th>\n",
       "      <th>poutcome</th>\n",
       "      <th>deposit</th>\n",
       "    </tr>\n",
       "  </thead>\n",
       "  <tbody>\n",
       "    <tr>\n",
       "      <th>0</th>\n",
       "      <td>59</td>\n",
       "      <td>admin.</td>\n",
       "      <td>married</td>\n",
       "      <td>secondary</td>\n",
       "      <td>no</td>\n",
       "      <td>2343</td>\n",
       "      <td>yes</td>\n",
       "      <td>no</td>\n",
       "      <td>unknown</td>\n",
       "      <td>5</td>\n",
       "      <td>may</td>\n",
       "      <td>1042</td>\n",
       "      <td>1</td>\n",
       "      <td>-1</td>\n",
       "      <td>0</td>\n",
       "      <td>unknown</td>\n",
       "      <td>yes</td>\n",
       "    </tr>\n",
       "    <tr>\n",
       "      <th>1</th>\n",
       "      <td>56</td>\n",
       "      <td>admin.</td>\n",
       "      <td>married</td>\n",
       "      <td>secondary</td>\n",
       "      <td>no</td>\n",
       "      <td>45</td>\n",
       "      <td>no</td>\n",
       "      <td>no</td>\n",
       "      <td>unknown</td>\n",
       "      <td>5</td>\n",
       "      <td>may</td>\n",
       "      <td>1467</td>\n",
       "      <td>1</td>\n",
       "      <td>-1</td>\n",
       "      <td>0</td>\n",
       "      <td>unknown</td>\n",
       "      <td>yes</td>\n",
       "    </tr>\n",
       "    <tr>\n",
       "      <th>2</th>\n",
       "      <td>41</td>\n",
       "      <td>technician</td>\n",
       "      <td>married</td>\n",
       "      <td>secondary</td>\n",
       "      <td>no</td>\n",
       "      <td>1270</td>\n",
       "      <td>yes</td>\n",
       "      <td>no</td>\n",
       "      <td>unknown</td>\n",
       "      <td>5</td>\n",
       "      <td>may</td>\n",
       "      <td>1389</td>\n",
       "      <td>1</td>\n",
       "      <td>-1</td>\n",
       "      <td>0</td>\n",
       "      <td>unknown</td>\n",
       "      <td>yes</td>\n",
       "    </tr>\n",
       "    <tr>\n",
       "      <th>3</th>\n",
       "      <td>55</td>\n",
       "      <td>services</td>\n",
       "      <td>married</td>\n",
       "      <td>secondary</td>\n",
       "      <td>no</td>\n",
       "      <td>2476</td>\n",
       "      <td>yes</td>\n",
       "      <td>no</td>\n",
       "      <td>unknown</td>\n",
       "      <td>5</td>\n",
       "      <td>may</td>\n",
       "      <td>579</td>\n",
       "      <td>1</td>\n",
       "      <td>-1</td>\n",
       "      <td>0</td>\n",
       "      <td>unknown</td>\n",
       "      <td>yes</td>\n",
       "    </tr>\n",
       "    <tr>\n",
       "      <th>4</th>\n",
       "      <td>54</td>\n",
       "      <td>admin.</td>\n",
       "      <td>married</td>\n",
       "      <td>tertiary</td>\n",
       "      <td>no</td>\n",
       "      <td>184</td>\n",
       "      <td>no</td>\n",
       "      <td>no</td>\n",
       "      <td>unknown</td>\n",
       "      <td>5</td>\n",
       "      <td>may</td>\n",
       "      <td>673</td>\n",
       "      <td>2</td>\n",
       "      <td>-1</td>\n",
       "      <td>0</td>\n",
       "      <td>unknown</td>\n",
       "      <td>yes</td>\n",
       "    </tr>\n",
       "  </tbody>\n",
       "</table>\n",
       "</div>"
      ],
      "text/plain": [
       "   age         job  marital  education default  balance housing loan  contact  \\\n",
       "0   59      admin.  married  secondary      no     2343     yes   no  unknown   \n",
       "1   56      admin.  married  secondary      no       45      no   no  unknown   \n",
       "2   41  technician  married  secondary      no     1270     yes   no  unknown   \n",
       "3   55    services  married  secondary      no     2476     yes   no  unknown   \n",
       "4   54      admin.  married   tertiary      no      184      no   no  unknown   \n",
       "\n",
       "   day month  duration  campaign  pdays  previous poutcome deposit  \n",
       "0    5   may      1042         1     -1         0  unknown     yes  \n",
       "1    5   may      1467         1     -1         0  unknown     yes  \n",
       "2    5   may      1389         1     -1         0  unknown     yes  \n",
       "3    5   may       579         1     -1         0  unknown     yes  \n",
       "4    5   may       673         2     -1         0  unknown     yes  "
      ]
     },
     "execution_count": 2,
     "metadata": {},
     "output_type": "execute_result"
    }
   ],
   "source": [
    "df = pd.read_csv(\"bank.csv\")\n",
    "df.head()"
   ]
  },
  {
   "cell_type": "code",
   "execution_count": 3,
   "id": "d537435c-feb3-4cbb-bfa9-79c350771e38",
   "metadata": {},
   "outputs": [
    {
     "data": {
      "text/plain": [
       "deposit\n",
       "no     5873\n",
       "yes    5289\n",
       "Name: count, dtype: int64"
      ]
     },
     "execution_count": 3,
     "metadata": {},
     "output_type": "execute_result"
    }
   ],
   "source": [
    "df.deposit.value_counts()"
   ]
  },
  {
   "cell_type": "markdown",
   "id": "73bb2821-7907-47f9-8a04-1a905a4f0a21",
   "metadata": {},
   "source": [
    "## Data Exploration (EDA or exploratory data analysis)"
   ]
  },
  {
   "cell_type": "code",
   "execution_count": 4,
   "id": "1a7ace4c-5ef9-44bb-8025-b10e0730a9c0",
   "metadata": {},
   "outputs": [
    {
     "data": {
      "text/plain": [
       "deposit\n",
       "no     5873\n",
       "yes    5289\n",
       "Name: count, dtype: int64"
      ]
     },
     "execution_count": 4,
     "metadata": {},
     "output_type": "execute_result"
    }
   ],
   "source": [
    "##lets find out of how many of each classes there\n",
    "df[\"deposit\"].value_counts()"
   ]
  },
  {
   "cell_type": "code",
   "execution_count": 5,
   "id": "5edcadf6-38cf-4186-ac77-353562854d47",
   "metadata": {},
   "outputs": [
    {
     "data": {
      "text/plain": [
       "<Axes: xlabel='deposit'>"
      ]
     },
     "execution_count": 5,
     "metadata": {},
     "output_type": "execute_result"
    },
    {
     "data": {
      "image/png": "[encoded data removed]",
      "text/plain": [
       "<Figure size 640x480 with 1 Axes>"
      ]
     },
     "metadata": {},
     "output_type": "display_data"
    }
   ],
   "source": [
    "df[\"deposit\"].value_counts().plot(kind=\"bar\",color=[\"red\",\"green\"])"
   ]
  },
  {
   "cell_type": "code",
   "execution_count": 6,
   "id": "9c760ad0-d1d7-4946-9392-d29666a907f8",
   "metadata": {},
   "outputs": [
    {
     "data": {
      "text/plain": [
       "age          0\n",
       "job          0\n",
       "marital      0\n",
       "education    0\n",
       "default      0\n",
       "balance      0\n",
       "housing      0\n",
       "loan         0\n",
       "contact      0\n",
       "day          0\n",
       "month        0\n",
       "duration     0\n",
       "campaign     0\n",
       "pdays        0\n",
       "previous     0\n",
       "poutcome     0\n",
       "deposit      0\n",
       "dtype: int64"
      ]
     },
     "execution_count": 6,
     "metadata": {},
     "output_type": "execute_result"
    }
   ],
   "source": [
    "#Checking the null values in the dataset\n",
    "df.isna().sum()"
   ]
  },
  {
   "cell_type": "code",
   "execution_count": 7,
   "id": "cd4b39fa-114b-446d-829a-c56443c1fba1",
   "metadata": {},
   "outputs": [
    {
     "data": {
      "text/html": [
       "<div>\n",
       "<style scoped>\n",
       "    .dataframe tbody tr th:only-of-type {\n",
       "        vertical-align: middle;\n",
       "    }\n",
       "\n",
       "    .dataframe tbody tr th {\n",
       "        vertical-align: top;\n",
       "    }\n",
       "\n",
       "    .dataframe thead th {\n",
       "        text-align: right;\n",
       "    }\n",
       "</style>\n",
       "<table border=\"1\" class=\"dataframe\">\n",
       "  <thead>\n",
       "    <tr style=\"text-align: right;\">\n",
       "      <th>deposit</th>\n",
       "      <th>no</th>\n",
       "      <th>yes</th>\n",
       "    </tr>\n",
       "    <tr>\n",
       "      <th>marital</th>\n",
       "      <th></th>\n",
       "      <th></th>\n",
       "    </tr>\n",
       "  </thead>\n",
       "  <tbody>\n",
       "    <tr>\n",
       "      <th>divorced</th>\n",
       "      <td>671</td>\n",
       "      <td>622</td>\n",
       "    </tr>\n",
       "    <tr>\n",
       "      <th>married</th>\n",
       "      <td>3596</td>\n",
       "      <td>2755</td>\n",
       "    </tr>\n",
       "    <tr>\n",
       "      <th>single</th>\n",
       "      <td>1606</td>\n",
       "      <td>1912</td>\n",
       "    </tr>\n",
       "  </tbody>\n",
       "</table>\n",
       "</div>"
      ],
      "text/plain": [
       "deposit     no   yes\n",
       "marital             \n",
       "divorced   671   622\n",
       "married   3596  2755\n",
       "single    1606  1912"
      ]
     },
     "execution_count": 7,
     "metadata": {},
     "output_type": "execute_result"
    }
   ],
   "source": [
    "#compare marital column with deposit column\n",
    "pd.crosstab(df[\"marital\"],df[\"deposit\"])"
   ]
  },
  {
   "cell_type": "code",
   "execution_count": 8,
   "id": "a05cbd9e-9c49-40c4-87fb-c89723a7f920",
   "metadata": {},
   "outputs": [
    {
     "data": {
      "text/plain": [
       "Text(0, 0.5, 'amount')"
      ]
     },
     "execution_count": 8,
     "metadata": {},
     "output_type": "execute_result"
    },
    {
     "data": {
      "image/png": "[encoded data removed]",
      "text/plain": [
       "<Figure size 640x480 with 1 Axes>"
      ]
     },
     "metadata": {},
     "output_type": "display_data"
    }
   ],
   "source": [
    "pd.crosstab(df[\"marital\"],df[\"deposit\"]).T.plot(kind=\"bar\");\n",
    "plt.title(\"Subscription Frequency as per Marital Status\")\n",
    "plt.ylabel(\"amount\")"
   ]
  },
  {
   "cell_type": "code",
   "execution_count": 9,
   "id": "2a782d77-4c88-4e42-a2c1-10e5f8bc8795",
   "metadata": {},
   "outputs": [
    {
     "data": {
      "text/html": [
       "<div>\n",
       "<style scoped>\n",
       "    .dataframe tbody tr th:only-of-type {\n",
       "        vertical-align: middle;\n",
       "    }\n",
       "\n",
       "    .dataframe tbody tr th {\n",
       "        vertical-align: top;\n",
       "    }\n",
       "\n",
       "    .dataframe thead th {\n",
       "        text-align: right;\n",
       "    }\n",
       "</style>\n",
       "<table border=\"1\" class=\"dataframe\">\n",
       "  <thead>\n",
       "    <tr style=\"text-align: right;\">\n",
       "      <th>deposit</th>\n",
       "      <th>no</th>\n",
       "      <th>yes</th>\n",
       "    </tr>\n",
       "    <tr>\n",
       "      <th>job</th>\n",
       "      <th></th>\n",
       "      <th></th>\n",
       "    </tr>\n",
       "  </thead>\n",
       "  <tbody>\n",
       "    <tr>\n",
       "      <th>admin.</th>\n",
       "      <td>703</td>\n",
       "      <td>631</td>\n",
       "    </tr>\n",
       "    <tr>\n",
       "      <th>blue-collar</th>\n",
       "      <td>1236</td>\n",
       "      <td>708</td>\n",
       "    </tr>\n",
       "    <tr>\n",
       "      <th>entrepreneur</th>\n",
       "      <td>205</td>\n",
       "      <td>123</td>\n",
       "    </tr>\n",
       "    <tr>\n",
       "      <th>housemaid</th>\n",
       "      <td>165</td>\n",
       "      <td>109</td>\n",
       "    </tr>\n",
       "    <tr>\n",
       "      <th>management</th>\n",
       "      <td>1265</td>\n",
       "      <td>1301</td>\n",
       "    </tr>\n",
       "    <tr>\n",
       "      <th>retired</th>\n",
       "      <td>262</td>\n",
       "      <td>516</td>\n",
       "    </tr>\n",
       "    <tr>\n",
       "      <th>self-employed</th>\n",
       "      <td>218</td>\n",
       "      <td>187</td>\n",
       "    </tr>\n",
       "    <tr>\n",
       "      <th>services</th>\n",
       "      <td>554</td>\n",
       "      <td>369</td>\n",
       "    </tr>\n",
       "    <tr>\n",
       "      <th>student</th>\n",
       "      <td>91</td>\n",
       "      <td>269</td>\n",
       "    </tr>\n",
       "    <tr>\n",
       "      <th>technician</th>\n",
       "      <td>983</td>\n",
       "      <td>840</td>\n",
       "    </tr>\n",
       "    <tr>\n",
       "      <th>unemployed</th>\n",
       "      <td>155</td>\n",
       "      <td>202</td>\n",
       "    </tr>\n",
       "    <tr>\n",
       "      <th>unknown</th>\n",
       "      <td>36</td>\n",
       "      <td>34</td>\n",
       "    </tr>\n",
       "  </tbody>\n",
       "</table>\n",
       "</div>"
      ],
      "text/plain": [
       "deposit          no   yes\n",
       "job                      \n",
       "admin.          703   631\n",
       "blue-collar    1236   708\n",
       "entrepreneur    205   123\n",
       "housemaid       165   109\n",
       "management     1265  1301\n",
       "retired         262   516\n",
       "self-employed   218   187\n",
       "services        554   369\n",
       "student          91   269\n",
       "technician      983   840\n",
       "unemployed      155   202\n",
       "unknown          36    34"
      ]
     },
     "execution_count": 9,
     "metadata": {},
     "output_type": "execute_result"
    }
   ],
   "source": [
    "#compare job column with deposit column\n",
    "pd.crosstab(df[\"job\"],df[\"deposit\"])"
   ]
  },
  {
   "cell_type": "code",
   "execution_count": 10,
   "id": "a28e1701-2823-4976-b095-05af1e273539",
   "metadata": {},
   "outputs": [
    {
     "data": {
      "text/plain": [
       "Text(0, 0.5, 'amount')"
      ]
     },
     "execution_count": 10,
     "metadata": {},
     "output_type": "execute_result"
    },
    {
     "data": {
      "image/png": "[encoded data removed]",
      "text/plain": [
       "<Figure size 640x480 with 1 Axes>"
      ]
     },
     "metadata": {},
     "output_type": "display_data"
    }
   ],
   "source": [
    "pd.crosstab(df[\"job\"],df[\"deposit\"]).T.plot(kind=\"bar\");\n",
    "plt.title(\"Subscription Frequency as per job\")\n",
    "plt.ylabel(\"amount\")"
   ]
  },
  {
   "cell_type": "code",
   "execution_count": 11,
   "id": "779fbcf8-23f6-4f4a-be57-6d6e03b068f7",
   "metadata": {},
   "outputs": [
    {
     "data": {
      "image/png": "[encoded data removed]",
      "text/plain": [
       "<Figure size 600x400 with 1 Axes>"
      ]
     },
     "metadata": {},
     "output_type": "display_data"
    }
   ],
   "source": [
    "plt.figure(figsize=(6,4))\n",
    "#check the distribution of the age column with histogtram\n",
    "df.age.plot.hist();"
   ]
  },
  {
   "cell_type": "code",
   "execution_count": 12,
   "id": "827ac749-274a-46a5-82ef-b52a69d87a53",
   "metadata": {},
   "outputs": [
    {
     "data": {
      "text/plain": [
       "education\n",
       "secondary    5476\n",
       "tertiary     3689\n",
       "primary      1500\n",
       "unknown       497\n",
       "Name: count, dtype: int64"
      ]
     },
     "execution_count": 12,
     "metadata": {},
     "output_type": "execute_result"
    }
   ],
   "source": [
    "df[\"education\"].value_counts()"
   ]
  },
  {
   "cell_type": "code",
   "execution_count": 13,
   "id": "5c58c679-5cd3-4879-9993-23d14073cbe7",
   "metadata": {},
   "outputs": [
    {
     "data": {
      "image/png": "[encoded data removed]",
      "text/plain": [
       "<Figure size 640x480 with 1 Axes>"
      ]
     },
     "metadata": {},
     "output_type": "display_data"
    }
   ],
   "source": [
    "pd.crosstab(df[\"education\"],df[\"deposit\"]).T.plot(kind=\"bar\");"
   ]
  },
  {
   "cell_type": "code",
   "execution_count": 14,
   "id": "490bc955-6dcb-4201-8b05-ed2c37121ab9",
   "metadata": {},
   "outputs": [
    {
     "data": {
      "text/plain": [
       "Text(0, 0.5, 'Passed Days')"
      ]
     },
     "execution_count": 14,
     "metadata": {},
     "output_type": "execute_result"
    },
    {
     "data": {
      "image/png": "[encoded data removed]",
      "text/plain": [
       "<Figure size 640x480 with 1 Axes>"
      ]
     },
     "metadata": {},
     "output_type": "display_data"
    }
   ],
   "source": [
    "#scatter with positive example\n",
    "plt.scatter(df.campaign[df.deposit==\"yes\"],df.pdays[df.deposit==\"yes\"],color=\"green\");\n",
    "\n",
    "#scatter with negative example\n",
    "plt.scatter(df.campaign[df.deposit==\"no\"],df.pdays[df.deposit==\"no\"],color=\"red\");\n",
    "\n",
    "plt.title(\"Subscription in Function of Campaign & Passed Days\")\n",
    "plt.xlabel(\"Campaign\")\n",
    "plt.ylabel(\"Passed Days\")\n"
   ]
  },
  {
   "cell_type": "markdown",
   "id": "bd300e82-1a6f-4c60-8490-a39078a000fe",
   "metadata": {},
   "source": [
    "## Modeling"
   ]
  },
  {
   "cell_type": "code",
   "execution_count": 15,
   "id": "88f70e2c-4888-48db-837c-db857df2c80c",
   "metadata": {},
   "outputs": [],
   "source": [
    "#split data into X and y\n",
    "X = df.drop(\"deposit\",axis=1)\n",
    "y = df[\"deposit\"]"
   ]
  },
  {
   "cell_type": "code",
   "execution_count": 16,
   "id": "1ab6f2a8-e674-4072-b9a2-ab4fa417dd42",
   "metadata": {},
   "outputs": [
    {
     "data": {
      "text/plain": [
       "<11162x522 sparse matrix of type '<class 'numpy.float64'>'\n",
       "\twith 169494 stored elements in Compressed Sparse Row format>"
      ]
     },
     "execution_count": 16,
     "metadata": {},
     "output_type": "execute_result"
    }
   ],
   "source": [
    "#turn the categories into numbers \n",
    "from sklearn.preprocessing import OneHotEncoder \n",
    "from sklearn.compose import ColumnTransformer  \n",
    "categorical_features = [\"job\",\"marital\",\"education\",\"default\",\"housing\",\"loan\",\"contact\",\"month\",\"pdays\",\"poutcome\"] \n",
    "one_hot= OneHotEncoder()  \n",
    "transformer = ColumnTransformer([(\"one_hot\",one_hot,categorical_features)],remainder=\"passthrough\")  \n",
    "transformed_x= transformer.fit_transform(X) \n",
    "transformed_x"
   ]
  },
  {
   "cell_type": "code",
   "execution_count": 17,
   "id": "a87f6ca9-0226-429e-8d02-c806174e8dea",
   "metadata": {},
   "outputs": [],
   "source": [
    "df['deposit'] = df['deposit'].map({'yes': 1, 'no': 0})"
   ]
  },
  {
   "cell_type": "code",
   "execution_count": 18,
   "id": "450ceb38-6975-4d6f-b97b-f125983f08ed",
   "metadata": {},
   "outputs": [
    {
     "data": {
      "text/plain": [
       "0    yes\n",
       "1    yes\n",
       "2    yes\n",
       "3    yes\n",
       "4    yes\n",
       "Name: deposit, dtype: object"
      ]
     },
     "execution_count": 18,
     "metadata": {},
     "output_type": "execute_result"
    }
   ],
   "source": [
    "y.head()"
   ]
  },
  {
   "cell_type": "code",
   "execution_count": 19,
   "id": "41813f53-3d47-4655-ab69-a54bb9560adc",
   "metadata": {},
   "outputs": [
    {
     "data": {
      "text/plain": [
       "11157    no\n",
       "11158    no\n",
       "11159    no\n",
       "11160    no\n",
       "11161    no\n",
       "Name: deposit, dtype: object"
      ]
     },
     "execution_count": 19,
     "metadata": {},
     "output_type": "execute_result"
    }
   ],
   "source": [
    "y.tail()"
   ]
  },
  {
   "cell_type": "code",
   "execution_count": 20,
   "id": "b0b1db80-980e-4856-9c18-cc11b970c5c5",
   "metadata": {},
   "outputs": [],
   "source": [
    "#setup random seed\n",
    "np.random.seed(42)\n",
    "\n",
    "#split data into train and test splits\n",
    "x_train,x_test,y_train,y_test = train_test_split(transformed_x,y,test_size=0.2)"
   ]
  },
  {
   "cell_type": "code",
   "execution_count": 21,
   "id": "7b482895-0e91-4532-acc0-5630231a70a8",
   "metadata": {},
   "outputs": [],
   "source": [
    "#put models in dictionary\n",
    "models = {\"SGD Classifer\":SGDClassifier(),\n",
    "         \"Random Forest Classifier\":RandomForestClassifier(),\n",
    "         \"KNeighbors Classifer\":KNeighborsClassifier()\n",
    "         }\n",
    "\n",
    "#Create Function to fit and score models\n",
    "def fit_and_score(models,x_train,x_test,y_train,y_test):\n",
    "    #setup random seed\n",
    "    np.random.seed(42)\n",
    "    \n",
    "    #create a dictionary of model scores\n",
    "    model_scores = {}\n",
    "    \n",
    "    for name,model in models.items():\n",
    "        \n",
    "        #fit the models to the training data\n",
    "        model.fit(x_train,y_train)\n",
    "        \n",
    "        #Evaluate scores to the test data\n",
    "        model_scores[name]=model.score(x_test,y_test)\n",
    "\n",
    "    return model_scores\n",
    "        "
   ]
  },
  {
   "cell_type": "code",
   "execution_count": 22,
   "id": "5e27cbef-95b5-4a47-89fb-4b3f89ce2289",
   "metadata": {},
   "outputs": [
    {
     "data": {
      "text/plain": [
       "{'SGD Classifer': 0.6762203313927452,\n",
       " 'Random Forest Classifier': 0.8248992386923422,\n",
       " 'KNeighbors Classifer': 0.7151813703537842}"
      ]
     },
     "execution_count": 22,
     "metadata": {},
     "output_type": "execute_result"
    }
   ],
   "source": [
    "model_scores = fit_and_score(models=models,x_train=x_train,x_test=x_test,y_train=y_train,y_test=y_test)\n",
    "model_scores"
   ]
  },
  {
   "cell_type": "markdown",
   "id": "3160d060-50cc-4618-a3af-5a8cc1e17c8b",
   "metadata": {},
   "source": [
    "## Comparison"
   ]
  },
  {
   "cell_type": "code",
   "execution_count": 23,
   "id": "d6d6a383-c082-4def-8cbc-ad4c0d9bc940",
   "metadata": {},
   "outputs": [
    {
     "data": {
      "image/png": "[encoded data removed]",
      "text/plain": [
       "<Figure size 600x400 with 1 Axes>"
      ]
     },
     "metadata": {},
     "output_type": "display_data"
    }
   ],
   "source": [
    "model_comparison = pd.DataFrame(model_scores,index=[\"Accuracy\"])\n",
    "model_comparison.T.plot(kind=\"bar\",figsize=(6,4));"
   ]
  },
  {
   "cell_type": "markdown",
   "id": "88d5ad36-e5e7-4a2e-8e1e-cb3be151386f",
   "metadata": {},
   "source": [
    "#Now we have got baseline models & we know a models first prediction arenot always what we should based our next steps? what should we do \n",
    "* Hyperparameters Tuning \n",
    "* Features Importance\n",
    "* Confusion matrix\n",
    "* Cross-Validation\n",
    "* Precision\n",
    "* Recall\n",
    "* F1 Score\n",
    "* Classification Report\n",
    "* ROC Curve\n",
    "* Area under the Curvea(AUC)"
   ]
  },
  {
   "cell_type": "code",
   "execution_count": 24,
   "id": "5e50f377-7bb9-44ff-a840-1cf87de9afbe",
   "metadata": {},
   "outputs": [],
   "source": [
    "#Lets Tune KNN model\n",
    "train_scores=[]\n",
    "test_scores = []\n",
    "\n",
    "#create a list of different values for n_neighbors\n",
    "neighbors = range(1,25)\n",
    "\n",
    "#setup model instance\n",
    "knn = KNeighborsClassifier()\n",
    "\n",
    "#loop through different n_neighbors\n",
    "for i in neighbors:\n",
    "    knn.set_params(n_neighbors=i)\n",
    "    \n",
    "    #fit the model\n",
    "    knn.fit(x_train,y_train)\n",
    "    \n",
    "    #update the training scores list\n",
    "    train_scores.append(knn.score(x_train,y_train))\n",
    "    \n",
    "     #update the test scores list\n",
    "    test_scores.append(knn.score(x_test,y_test))\n",
    "   "
   ]
  },
  {
   "cell_type": "code",
   "execution_count": 25,
   "id": "6e451d4d-8d78-4fb3-a12d-f0ca87fcbbf5",
   "metadata": {},
   "outputs": [
    {
     "data": {
      "text/plain": [
       "[1.0,\n",
       " 0.8283122410124314,\n",
       " 0.8377197894501064,\n",
       " 0.7928099451226341,\n",
       " 0.7975137193414716,\n",
       " 0.7783626385933475,\n",
       " 0.7814984880725725,\n",
       " 0.7694030686527047,\n",
       " 0.7711949826408332,\n",
       " 0.7634673535670288,\n",
       " 0.7670511815432859,\n",
       " 0.760779482584836,\n",
       " 0.7624594019487064,\n",
       " 0.7576436331056109,\n",
       " 0.760891477209094,\n",
       " 0.75484376749916,\n",
       " 0.7592115578452234,\n",
       " 0.7539478105050957,\n",
       " 0.7557397244932244,\n",
       " 0.7554037406204502,\n",
       " 0.7550677567476761,\n",
       " 0.7528278642625154,\n",
       " 0.7524918803897412,\n",
       " 0.7492440362862582]"
      ]
     },
     "execution_count": 25,
     "metadata": {},
     "output_type": "execute_result"
    }
   ],
   "source": [
    "train_scores"
   ]
  },
  {
   "cell_type": "code",
   "execution_count": 26,
   "id": "ce63c6d7-09d4-443c-83f4-2626d5003850",
   "metadata": {},
   "outputs": [
    {
     "data": {
      "text/plain": [
       "[0.6847290640394089,\n",
       " 0.6623376623376623,\n",
       " 0.7066726377071205,\n",
       " 0.6977160770264218,\n",
       " 0.7151813703537842,\n",
       " 0.7075682937751904,\n",
       " 0.7174205105239588,\n",
       " 0.7115987460815048,\n",
       " 0.7151813703537842,\n",
       " 0.716524854455889,\n",
       " 0.7227944469323779,\n",
       " 0.7232422749664129,\n",
       " 0.7232422749664129,\n",
       " 0.7151813703537842,\n",
       " 0.7214509628302732,\n",
       " 0.7245857590685177,\n",
       " 0.7227944469323779,\n",
       " 0.7205553067622034,\n",
       " 0.7277205553067622,\n",
       " 0.7277205553067622,\n",
       " 0.7272727272727273,\n",
       " 0.7218987908643081,\n",
       " 0.7254814151365876,\n",
       " 0.7263770712046574]"
      ]
     },
     "execution_count": 26,
     "metadata": {},
     "output_type": "execute_result"
    }
   ],
   "source": [
    "test_scores"
   ]
  },
  {
   "cell_type": "code",
   "execution_count": 27,
   "id": "2cd89932-7ab9-4e4e-8d2f-ea3e07d3f739",
   "metadata": {},
   "outputs": [
    {
     "name": "stdout",
     "output_type": "stream",
     "text": [
      "Max score of KNN is 72.77%\n"
     ]
    },
    {
     "data": {
      "image/png": "[encoded data removed]",
      "text/plain": [
       "<Figure size 640x480 with 1 Axes>"
      ]
     },
     "metadata": {},
     "output_type": "display_data"
    }
   ],
   "source": [
    "plt.plot(neighbors,train_scores,label=\"Train Scores\")\n",
    "plt.plot(neighbors,test_scores,label=\"Test Scores\");\n",
    "print(f\"Max score of KNN is {max(test_scores)*100:.2f}%\")"
   ]
  },
  {
   "cell_type": "markdown",
   "id": "3ceec360-4f06-45eb-b896-967dff16f1f1",
   "metadata": {},
   "source": [
    "## Hyperparameters Tuning\n",
    "We are going to tune:\n",
    "* RandomforestClassifer()\n",
    "* using GridSearchCv\n",
    "* using RandomizedSearchCV\n"
   ]
  },
  {
   "cell_type": "code",
   "execution_count": 28,
   "id": "97e20af4-f01f-4b9c-8454-f5f164f7ed51",
   "metadata": {},
   "outputs": [],
   "source": [
    "#create a grid of hyperparameters\n",
    "rf_grid = {\"n_estimators\":[10,1000,50],\n",
    "           \"max_depth\":[None, 5, 10, 15, 20],\n",
    "           \"min_samples_split\": [2, 5, 10, 20],\n",
    "           \"max_features\": [\"sqrt\", \"log2\", None]\n",
    "          }\n"
   ]
  },
  {
   "cell_type": "code",
   "execution_count": null,
   "id": "400d94e5-4e48-4043-8e50-fd2e8de39b08",
   "metadata": {},
   "outputs": [
    {
     "name": "stdout",
     "output_type": "stream",
     "text": [
      "Fitting 5 folds for each of 180 candidates, totalling 900 fits\n"
     ]
    }
   ],
   "source": [
    "#setup random seed\n",
    "np.random.seed(42)\n",
    "\n",
    "#setup GridSearchCV for RandomForestClassifer()\n",
    "gs_rf = GridSearchCV(RandomForestClassifier(),param_grid=rf_grid,verbose=True)\n",
    "\n",
    "#fit the model\n",
    "gs_rf.fit(x_train,y_train)\n",
    "print(\"print\")\n",
    "#Evaluate the model \n",
    "gs_rf.score(x_test,y_test)\n"
   ]
  },
  {
   "cell_type": "code",
   "execution_count": null,
   "id": "471c2eb0-ba50-444e-b3e3-45147a6df501",
   "metadata": {},
   "outputs": [],
   "source": [
    "gs_rf.score(x_test,y_test)"
   ]
  },
  {
   "cell_type": "code",
   "execution_count": null,
   "id": "1ae3ab2b-11d2-4a76-8539-8fbe13a9a2a7",
   "metadata": {},
   "outputs": [],
   "source": [
    "#setup random seed\n",
    "np.random.seed(42)\n",
    "\n",
    "#setup randomized search for logistic regression\n",
    "rs_rf = RandomizedSearchCV(RandomForestClassifier(),param_distributions = rf_grid , cv=5,n_iter=20,verbose=True)\n",
    "\n",
    "#fit randomSearch model for logistic regression\n",
    "rs_rf.fit(x_train,y_train)"
   ]
  },
  {
   "cell_type": "code",
   "execution_count": null,
   "id": "1a6492c9-b8d4-465f-acbd-6a7d6c0b49c2",
   "metadata": {},
   "outputs": [],
   "source": [
    "rs_rf.score(x_test,y_test)"
   ]
  },
  {
   "cell_type": "code",
   "execution_count": null,
   "id": "8f512f88-3494-4c96-8ecd-f653f396d6a0",
   "metadata": {},
   "outputs": [],
   "source": []
  },
  {
   "cell_type": "code",
   "execution_count": null,
   "id": "a8b6723d-136a-4736-b6d4-656ed89050a7",
   "metadata": {},
   "outputs": [],
   "source": []
  }
 ],
 "metadata": {
  "kernelspec": {
   "display_name": "Python 3 (ipykernel)",
   "language": "python",
   "name": "python3"
  },
  "language_info": {
   "codemirror_mode": {
    "name": "ipython",
    "version": 3
   },
   "file_extension": ".py",
   "mimetype": "text/x-python",
   "name": "python",
   "nbconvert_exporter": "python",
   "pygments_lexer": "ipython3",
   "version": "3.8.19"
  }
 },
 "nbformat": 4,
 "nbformat_minor": 5
}
